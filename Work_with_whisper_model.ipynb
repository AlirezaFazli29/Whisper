{
  "nbformat": 4,
  "nbformat_minor": 0,
  "metadata": {
    "colab": {
      "provenance": [],
      "authorship_tag": "ABX9TyNZyHFmKcro1wEl+LRK66np",
      "include_colab_link": true
    },
    "kernelspec": {
      "name": "python3",
      "display_name": "Python 3"
    },
    "language_info": {
      "name": "python"
    }
  },
  "cells": [
    {
      "cell_type": "markdown",
      "metadata": {
        "id": "view-in-github",
        "colab_type": "text"
      },
      "source": [
        "<a href=\"https://colab.research.google.com/github/AlirezaFazli29/Whisper/blob/main/Work_with_whisper_model.ipynb\" target=\"_parent\"><img src=\"https://colab.research.google.com/assets/colab-badge.svg\" alt=\"Open In Colab\"/></a>"
      ]
    },
    {
      "cell_type": "markdown",
      "source": [
        "# Libraries"
      ],
      "metadata": {
        "id": "LkpAJb6jsaLf"
      }
    },
    {
      "cell_type": "code",
      "source": [
        "! pip3 install torchinfo"
      ],
      "metadata": {
        "colab": {
          "base_uri": "https://localhost:8080/"
        },
        "id": "l6j0jwOJtK4j",
        "outputId": "b396fa4b-7173-49e3-b30a-cffc9655accb"
      },
      "execution_count": 6,
      "outputs": [
        {
          "output_type": "stream",
          "name": "stdout",
          "text": [
            "Collecting torchinfo\n",
            "  Downloading torchinfo-1.8.0-py3-none-any.whl (23 kB)\n",
            "Installing collected packages: torchinfo\n",
            "Successfully installed torchinfo-1.8.0\n"
          ]
        }
      ]
    },
    {
      "cell_type": "code",
      "execution_count": 7,
      "metadata": {
        "id": "xjlGTC-usN3k"
      },
      "outputs": [],
      "source": [
        "import torch\n",
        "from transformers import AutoModelForSpeechSeq2Seq, AutoProcessor, pipeline\n",
        "from torchinfo import summary"
      ]
    },
    {
      "cell_type": "markdown",
      "source": [
        "# Default Device"
      ],
      "metadata": {
        "id": "CB2FfSlIsm6-"
      }
    },
    {
      "cell_type": "code",
      "source": [
        "if torch.cuda.is_available(): print(torch.cuda.get_device_name())\n",
        "else: print('cpu')\n",
        "default_device = 'cuda' if torch.cuda.is_available() else 'cpu'"
      ],
      "metadata": {
        "colab": {
          "base_uri": "https://localhost:8080/"
        },
        "id": "nHjcw4_usnTC",
        "outputId": "a20a2782-d4ed-41ad-f3d8-8c130875f355"
      },
      "execution_count": 3,
      "outputs": [
        {
          "output_type": "stream",
          "name": "stdout",
          "text": [
            "cpu\n"
          ]
        }
      ]
    },
    {
      "cell_type": "markdown",
      "source": [
        "# Model"
      ],
      "metadata": {
        "id": "INt40-9vsqS2"
      }
    },
    {
      "cell_type": "code",
      "source": [
        "model_id = \"openai/whisper-large-v3\"\n",
        "model = AutoModelForSpeechSeq2Seq.from_pretrained(pretrained_model_name_or_path=model_id).to(default_device)\n",
        "processor = AutoProcessor.from_pretrained(model_id)"
      ],
      "metadata": {
        "id": "qfPnH31LspVy"
      },
      "execution_count": null,
      "outputs": []
    },
    {
      "cell_type": "code",
      "source": [
        "summary(model)"
      ],
      "metadata": {
        "colab": {
          "base_uri": "https://localhost:8080/"
        },
        "id": "2Spax4dztQ-m",
        "outputId": "f04f022b-7d6a-4be3-ff58-0208e7090465"
      },
      "execution_count": 8,
      "outputs": [
        {
          "output_type": "execute_result",
          "data": {
            "text/plain": [
              "================================================================================\n",
              "Layer (type:depth-idx)                                  Param #\n",
              "================================================================================\n",
              "WhisperForConditionalGeneration                         --\n",
              "├─WhisperModel: 1-1                                     --\n",
              "│    └─WhisperEncoder: 2-1                              --\n",
              "│    │    └─Conv1d: 3-1                                 492,800\n",
              "│    │    └─Conv1d: 3-2                                 4,916,480\n",
              "│    │    └─Embedding: 3-3                              (1,920,000)\n",
              "│    │    └─ModuleList: 3-4                             629,637,120\n",
              "│    │    └─LayerNorm: 3-5                              2,560\n",
              "│    └─WhisperDecoder: 2-2                              --\n",
              "│    │    └─Embedding: 3-6                              66,388,480\n",
              "│    │    └─WhisperPositionalEmbedding: 3-7             573,440\n",
              "│    │    └─ModuleList: 3-8                             839,557,120\n",
              "│    │    └─LayerNorm: 3-9                              2,560\n",
              "├─Linear: 1-2                                           66,388,480\n",
              "================================================================================\n",
              "Total params: 1,609,879,040\n",
              "Trainable params: 1,607,959,040\n",
              "Non-trainable params: 1,920,000\n",
              "================================================================================"
            ]
          },
          "metadata": {},
          "execution_count": 8
        }
      ]
    },
    {
      "cell_type": "markdown",
      "source": [
        "# Rest"
      ],
      "metadata": {
        "id": "CykC8o4_sqmd"
      }
    }
  ]
}